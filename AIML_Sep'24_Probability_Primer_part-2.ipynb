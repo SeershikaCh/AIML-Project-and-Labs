{
  "nbformat": 4,
  "nbformat_minor": 0,
  "metadata": {
    "colab": {
      "provenance": [],
      "authorship_tag": "ABX9TyPfEq6vCn7OTQ/cSdOEmNKV",
      "include_colab_link": true
    },
    "kernelspec": {
      "name": "python3",
      "display_name": "Python 3"
    },
    "language_info": {
      "name": "python"
    }
  },
  "cells": [
    {
      "cell_type": "markdown",
      "metadata": {
        "id": "view-in-github",
        "colab_type": "text"
      },
      "source": [
        "<a href=\"https://colab.research.google.com/github/SeershikaCh/AIML-Project-and-Labs/blob/main/AIML_2.ipynb\" target=\"_parent\"><img src=\"https://colab.research.google.com/assets/colab-badge.svg\" alt=\"Open In Colab\"/></a>"
      ]
    },
    {
      "cell_type": "code",
      "execution_count": null,
      "metadata": {
        "id": "GRFInDZ7zlo0"
      },
      "outputs": [],
      "source": [
        "1A) WE HAVE 4ACES(A) 4 KINGS(K) 4 QUEENS(Q) 4 JACKS(J) 4 (2),4(3),4(4),4(5),4(6),4(7),4(8),4(9),4(10) THAT IS EQUAL TO 4*9=36 NUMBERED CARDS TOTAL NUMBER OF CARDS=52 P(A)=36/52=9/13=0.69=69%\n",
        "\n",
        "2A)P(A)=(9/13)*(9/13)=81/169=0.47=47%\n",
        "\n",
        "3A) PROBABILITY OF REMOVING ONE NUMBERED CARD=9/13 PROBABILITY OF REMOVING A NUMBERED CARD AFTER THROWING THE FIRST ONE= 36/51(SINCE TOTAL CARDS ARE 51 NOW) TOTAL PROBABILITY=(9/13)*(36/51)=105/221=0.47=47%\n",
        "\n",
        "4A) SINCE IT SORTED EACH CARD HAS EQUAL CHANCE OF BEING IN THE BOTTOM CUT. TOTAL NUMBER OF CARDS=52 NUMBERED CARDS= 36 P(A)=9/13=0.69=69%"
      ]
    },
    {
      "cell_type": "code",
      "source": [
        "import numpy as np\n",
        "def number_of_numbered_cards_drawn_before_ace(trials=10000, show_trials=10):\n",
        "    values = ['A', '2', '3', '4', '5', '6', '7', '8', '9', '10', 'J', 'Q', 'K']\n",
        "    suits = ['H', 'D', 'C', 'S']\n",
        "    cards_thrown_counts = []\n",
        "    for experiment in range(trials):\n",
        "        deck = [value + suit for value in values for suit in suits]\n",
        "        cards_thrown = 0\n",
        "        cards_pile = []\n",
        "        while len(deck) > 0:\n",
        "            picked_card = np.random.choice(deck)\n",
        "            cards_pile.append(picked_card)\n",
        "            if picked_card[0] == 'A':\n",
        "                break\n",
        "            cards_thrown += 1\n",
        "            deck.remove(picked_card)\n",
        "        if experiment < show_trials:\n",
        "            print(cards_thrown, 'cards were thrown:', ' '.join(cards_pile))\n",
        "        cards_thrown_counts.append(cards_thrown)\n",
        "    return np.mean(cards_thrown_counts), cards_thrown_counts\n",
        "expected_cards_thrown, cards_thrown_counts = number_of_numbered_cards_drawn_before_ace(10000)\n",
        "print(f'\\nOn average, {expected_cards_thrown:.2f} cards are tossed before we see the first ace!')\n"
      ],
      "metadata": {
        "id": "OysP8son3Iy-"
      },
      "execution_count": null,
      "outputs": []
    }
  ]
}
